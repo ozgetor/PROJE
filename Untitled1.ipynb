{
 "cells": [
  {
   "cell_type": "code",
   "execution_count": 1,
   "metadata": {},
   "outputs": [],
   "source": [
    "import numpy as np\n",
    "import matplotlib.pyplot as plt\n",
    "\n",
    "np.random.seed(101)"
   ]
  },
  {
   "cell_type": "markdown",
   "metadata": {},
   "source": [
    "problem uzayi icin gerekli olan degerler"
   ]
  },
  {
   "cell_type": "code",
   "execution_count": 2,
   "metadata": {},
   "outputs": [],
   "source": [
    "farkli_renk_miktari = 10\n",
    "\n",
    "populasyon_sayisi = 50\n",
    "secilen_birey_sayisi = 20\n",
    "\n",
    "renkler_arasi_zaman_maks = 30\n",
    "renkler_arasi_zaman_min = 5"
   ]
  },
  {
   "cell_type": "markdown",
   "metadata": {},
   "source": [
    "uzayin olusturulmasi"
   ]
  },
  {
   "cell_type": "code",
   "execution_count": 3,
   "metadata": {},
   "outputs": [],
   "source": [
    "renkler_arasi_zaman = np.zeros((farkli_renk_miktari, farkli_renk_miktari))\n",
    "\n",
    "for i in range(farkli_renk_miktari):\n",
    "    for j in range(farkli_renk_miktari):\n",
    "        if i <= j:\n",
    "            zaman = np.random.randint(renkler_arasi_zaman_min, renkler_arasi_zaman_maks, 1)\n",
    "            renkler_arasi_zaman[i][j] = zaman\n",
    "            renkler_arasi_zaman[j][i] = zaman\n",
    "        if i == j:\n",
    "            renkler_arasi_zaman[i][i] = 2*renkler_arasi_zaman_maks"
   ]
  },
  {
   "cell_type": "markdown",
   "metadata": {},
   "source": [
    "Genetik algoritma icin degerlerin tanimlanmasi"
   ]
  },
  {
   "cell_type": "code",
   "execution_count": 4,
   "metadata": {},
   "outputs": [],
   "source": [
    "max_iterasyon = 1000\n",
    "\n",
    "max_crossover_olasiligi = 0.7\n",
    "min_crossover_olasiligi = 0.2\n",
    "\n",
    "max_mutasyon_olasiligi = 0.6\n",
    "min_mutasyon_olasiligi = 0.4"
   ]
  },
  {
   "cell_type": "markdown",
   "metadata": {},
   "source": [
    "iterasyon sayisi ilerledikce crossover olasiligi azalip, mutasyon olasiligi artacak"
   ]
  },
  {
   "cell_type": "code",
   "execution_count": 5,
   "metadata": {},
   "outputs": [],
   "source": [
    "def crossover_olasiligi(iterasyon):\n",
    "    return max_crossover_olasiligi - (max_crossover_olasiligi-min_crossover_olasiligi)*iterasyon/max_iterasyon"
   ]
  },
  {
   "cell_type": "code",
   "execution_count": 6,
   "metadata": {},
   "outputs": [],
   "source": [
    "def mutasyon_olasiligi(iterasyon):\n",
    "    return min_mutasyon_olasiligi + (max_mutasyon_olasiligi-min_mutasyon_olasiligi)*iterasyon/max_iterasyon"
   ]
  },
  {
   "cell_type": "markdown",
   "metadata": {},
   "source": [
    "constructive heuristic modeli ilk populasyonu belirlemek icin kullaniyoruz, bize daha iyi bir initial point veriyor"
   ]
  },
  {
   "cell_type": "code",
   "execution_count": 7,
   "metadata": {},
   "outputs": [],
   "source": [
    "def greedy_sira():\n",
    "    sira = np.zeros(farkli_renk_miktari)\n",
    "    ilk_renk = np.random.randint(farkli_renk_miktari)\n",
    "    sira[0] = ilk_renk\n",
    "    \n",
    "    greedy_renkler_arasi_zaman = renkler_arasi_zaman\n",
    "    \n",
    "    for i in range(1, farkli_renk_miktari):\n",
    "        sira[i] = np.argmin(renkler_arasi_zaman[int(sira[i-1])])\n",
    "        greedy_renkler_arasi_zaman[int(sira[i-1]),:] = 2*renkler_arasi_zaman_maks\n",
    "        greedy_renkler_arasi_zaman[:,int(sira[i-1])] = 2*renkler_arasi_zaman_maks\n",
    "    return sira"
   ]
  },
  {
   "cell_type": "code",
   "execution_count": 8,
   "metadata": {},
   "outputs": [],
   "source": [
    "baslangic_sirasi = greedy_sira()"
   ]
  },
  {
   "cell_type": "markdown",
   "metadata": {},
   "source": [
    "Sirada gecirilen sureyi minimalize etmek istedigimiz icin deger fonksiyonu olarak 1/gecen sure kullandik"
   ]
  },
  {
   "cell_type": "code",
   "execution_count": 9,
   "metadata": {},
   "outputs": [],
   "source": [
    "def siranin_degeri(sira):\n",
    "    deger = 0\n",
    "    for i in range(farkli_renk_miktari-1):\n",
    "        deger = deger + renkler_arasi_zaman[int(sira[i])][int(sira[i+1])]\n",
    "    \n",
    "    return 1/deger"
   ]
  },
  {
   "cell_type": "markdown",
   "metadata": {},
   "source": [
    "greedy olarak elde ettigimiz siradan yeni bireyler elde etmek icin 2 Opt algoritmasini kullandik"
   ]
  },
  {
   "cell_type": "code",
   "execution_count": 10,
   "metadata": {},
   "outputs": [],
   "source": [
    "def twoOptSwap(sira, i, k):\n",
    "    yeni_sira = sira\n",
    "    yeni_sira[i:k+1] = np.flip(sira[i:k+1])\n",
    "    return yeni_sira"
   ]
  },
  {
   "cell_type": "code",
   "execution_count": 11,
   "metadata": {},
   "outputs": [],
   "source": [
    "def populasyonun_olusturulmasi(sira):\n",
    "    populasyon = np.zeros((populasyon_sayisi, farkli_renk_miktari))\n",
    "    populasyon[0,:] = sira\n",
    "    for i in range(populasyon_sayisi-1):\n",
    "        j = np.random.randint(farkli_renk_miktari)\n",
    "        k = np.random.randint(farkli_renk_miktari)\n",
    "        if j > k:\n",
    "            yeni_sira = twoOptSwap(sira, k, j)\n",
    "        else:\n",
    "            yeni_sira = twoOptSwap(sira, j, k)\n",
    "        populasyon[i+1] = yeni_sira\n",
    "    return populasyon"
   ]
  },
  {
   "cell_type": "code",
   "execution_count": 12,
   "metadata": {},
   "outputs": [],
   "source": [
    "anlik_populasyon = populasyonun_olusturulmasi(baslangic_sirasi)"
   ]
  },
  {
   "cell_type": "markdown",
   "metadata": {},
   "source": [
    "olusturulan populasyondan en iyi bireylerin secilmesi"
   ]
  },
  {
   "cell_type": "code",
   "execution_count": 13,
   "metadata": {},
   "outputs": [],
   "source": [
    "def en_iyi_bireyler(populasyon, en_iyi_birey_sayisi):\n",
    "    bireylerin_degerleri = np.zeros(len(populasyon))\n",
    "    en_iyi_birey_populasyonu = np.zeros((en_iyi_birey_sayisi, farkli_renk_miktari))\n",
    "    \n",
    "    for i in range(len(populasyon)):\n",
    "        bireylerin_degerleri[i] = siranin_degeri(populasyon[i])\n",
    "    \n",
    "    for i in range(en_iyi_birey_sayisi):\n",
    "        index = np.argmax(bireylerin_degerleri)\n",
    "        en_iyi_birey_populasyonu[i] = populasyon[index]\n",
    "        bireylerin_degerleri[i] = 0\n",
    "    \n",
    "    return en_iyi_birey_populasyonu"
   ]
  },
  {
   "cell_type": "code",
   "execution_count": 14,
   "metadata": {},
   "outputs": [],
   "source": [
    "yeni_populasyon = en_iyi_bireyler(anlik_populasyon, secilen_birey_sayisi)"
   ]
  },
  {
   "cell_type": "markdown",
   "metadata": {},
   "source": [
    "genetic algoritmayi beslemek icin, populasyonumuza random olarak olusturulmus bireyler ekliyoruz"
   ]
  },
  {
   "cell_type": "code",
   "execution_count": 15,
   "metadata": {},
   "outputs": [],
   "source": [
    "def random_populasyon_olusturulmasi():\n",
    "    populasyon = np.zeros((populasyon_sayisi, farkli_renk_miktari))\n",
    "    base_birey = np.arange(farkli_renk_miktari)\n",
    "    for i in range(populasyon_sayisi):\n",
    "        np.random.shuffle(base_birey)\n",
    "        populasyon[i] = base_birey\n",
    "    \n",
    "    en_iyi_random_populasyon = en_iyi_bireyler(populasyon, secilen_birey_sayisi)\n",
    "    return en_iyi_random_populasyon\n",
    "    "
   ]
  },
  {
   "cell_type": "code",
   "execution_count": 18,
   "metadata": {},
   "outputs": [],
   "source": [
    "eklenecek_populasyon = random_populasyon_olusturulmasi()"
   ]
  },
  {
   "cell_type": "code",
   "execution_count": 21,
   "metadata": {},
   "outputs": [],
   "source": [
    "crossover_oncesi_populasyon = np.concatenate((yeni_populasyon, eklenecek_populasyon))"
   ]
  },
  {
   "cell_type": "markdown",
   "metadata": {},
   "source": [
    "yapilacaklar"
   ]
  },
  {
   "cell_type": "markdown",
   "metadata": {},
   "source": [
    "1 - olusturulan iki populasyonda crossover yapilmasi ve en iyi bireylerin secilmesi. Parentlar rulet yontemi ile belirlenecek"
   ]
  },
  {
   "cell_type": "markdown",
   "metadata": {},
   "source": [
    "2 - crossover sonucunda mutasyon gecirilmesi ve en iyi bireylerin secilmesi. Mutasyon random 2 rengin yerinin degistirilmesi ile gerceklesecek"
   ]
  },
  {
   "cell_type": "markdown",
   "metadata": {},
   "source": [
    "3 - bitis sartinin belirlenmesi ve iterasyonlarin yapilmasi"
   ]
  }
 ],
 "metadata": {
  "kernelspec": {
   "display_name": "Python 3",
   "language": "python",
   "name": "python3"
  },
  "language_info": {
   "codemirror_mode": {
    "name": "ipython",
    "version": 3
   },
   "file_extension": ".py",
   "mimetype": "text/x-python",
   "name": "python",
   "nbconvert_exporter": "python",
   "pygments_lexer": "ipython3",
   "version": "3.7.6"
  }
 },
 "nbformat": 4,
 "nbformat_minor": 4
}
